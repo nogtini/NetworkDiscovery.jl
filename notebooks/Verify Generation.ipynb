{
 "cells": [
  {
   "cell_type": "code",
   "execution_count": 1,
   "metadata": {
    "collapsed": false
   },
   "outputs": [],
   "source": [
    "using NetworkDiscovery\n",
    "using POMDPs\n",
    "using POMDPToolbox\n",
    "# using TikzGraphs"
   ]
  },
  {
   "cell_type": "code",
   "execution_count": 2,
   "metadata": {
    "collapsed": true
   },
   "outputs": [],
   "source": [
    "p_intra = 0.3;\n",
    "p_inter = 0.01;"
   ]
  },
  {
   "cell_type": "code",
   "execution_count": 3,
   "metadata": {
    "collapsed": false
   },
   "outputs": [
    {
     "ename": "LoadError",
     "evalue": "generate_networkworkwork not defined\nwhile loading In[3], in expression starting on line 2",
     "output_type": "error",
     "traceback": [
      "generate_networkworkwork not defined\nwhile loading In[3], in expression starting on line 2",
      ""
     ]
    }
   ],
   "source": [
    "nw = generate_network(MersenneTwister(1), 100, 5, p_intra, p_inter)\n",
    "nw2 = generate_networkworkwork(MersenneTwister(1), 100, 5, p_intra, p_inter)\n",
    "nw.graph == nw2.graph"
   ]
  },
  {
   "cell_type": "code",
   "execution_count": 4,
   "metadata": {
    "collapsed": false
   },
   "outputs": [
    {
     "data": {
      "text/plain": [
       "CommunityAffiliationPOMDP(5,1,100.0,CommunityNetwork({100, 349} undirected graph,5,[2,2,2,1,3,2,5,5,2,5  …  2,2,2,1,1,2,1,4,4,2],5),Set{Int64}({37,75,60,83,65,22,12,44}),Set{Pair{Int64,Int64}}({edge 37 - 83,edge 44 - 75,edge 22 - 60,edge 12 - 65}),[75=>3,83=>3,44=>3],0.3,0.01)"
      ]
     },
     "execution_count": 4,
     "metadata": {},
     "output_type": "execute_result"
    }
   ],
   "source": [
    "pomdp = generate_problem(MersenneTwister(1), nw, 5, 1, 100.0, 4, 4, p_intra, p_inter)\n",
    "pomdp2 = generate_problem(MersenneTwister(1), nw, 5, 1, 100.0, 4, 4, p_intra, p_inter)"
   ]
  },
  {
   "cell_type": "code",
   "execution_count": 5,
   "metadata": {
    "collapsed": false
   },
   "outputs": [
    {
     "data": {
      "text/plain": [
       "RevealedGraph(Set{Pair{Int64,Int64}}({edge 37 - 83,edge 44 - 75,edge 22 - 60,edge 12 - 65}),[[],[],[],[],[],[],[],[],[],[]  …  [],[],[],[],[],[],[],[],[],[]],Set{Int64}({37,75,60,83,65,22,12,44}),[75=>3,83=>3,44=>3],Set{Int64}({}),5,0.3,0.01,5)"
      ]
     },
     "execution_count": 5,
     "metadata": {},
     "output_type": "execute_result"
    }
   ],
   "source": [
    "revealed = initial_belief(pomdp)\n",
    "revealed2 = initial_belief(pomdp2)"
   ]
  },
  {
   "cell_type": "code",
   "execution_count": 6,
   "metadata": {
    "collapsed": false
   },
   "outputs": [
    {
     "data": {
      "text/plain": [
       "100.0"
      ]
     },
     "execution_count": 6,
     "metadata": {},
     "output_type": "execute_result"
    }
   ],
   "source": [
    "policy = DiscoveryHeuristic(ProbeHighestDegree(true), GuessBasedOnNeighbors(MersenneTwister(1)))\n",
    "sim = HistoryRecorder(rng=MersenneTwister(1), initial_state=nw, initial_belief=revealed)\n",
    "simulate(sim, pomdp, policy)"
   ]
  },
  {
   "cell_type": "code",
   "execution_count": 7,
   "metadata": {
    "collapsed": false
   },
   "outputs": [
    {
     "data": {
      "text/plain": [
       "100.0"
      ]
     },
     "execution_count": 7,
     "metadata": {},
     "output_type": "execute_result"
    }
   ],
   "source": [
    "policy2 = DiscoveryHeuristic(ProbeHighestDegree(true), GuessBasedOnNeighbors(MersenneTwister(1)))\n",
    "sim2 = HistoryRecorder(rng=MersenneTwister(1), initial_state=nw, initial_belief=revealed)\n",
    "simulate(sim2, pomdp2, policy2)"
   ]
  },
  {
   "cell_type": "code",
   "execution_count": 8,
   "metadata": {
    "collapsed": false
   },
   "outputs": [
    {
     "data": {
      "text/plain": [
       "RevealedGraph(Set{Pair{Int64,Int64}}({edge 9 - 70,edge 100 - 9,edge 37 - 83,edge 100 - 73,edge 9 - 17,edge 44 - 75,edge 1 - 87,edge 1 - 58,edge 100 - 3,edge 16 - 67,edge 70 - 67,edge 9 - 41,edge 1 - 100,edge 16 - 9,edge 1 - 6,edge 16 - 91,edge 1 - 16,edge 100 - 41,edge 1 - 2,edge 22 - 60,edge 1 - 70,edge 12 - 65,edge 100 - 96,edge 9 - 92,edge 9 - 96,edge 70 - 6,edge 70 - 17,edge 100 - 85,edge 1 - 17,edge 9 - 15,edge 16 - 73,edge 9 - 91,edge 70 - 93,edge 70 - 96,edge 16 - 70,edge 16 - 15,edge 100 - 16,edge 16 - 86}),[[2,6,16,17,58,70,87,100],[1],[100],[],[],[1,70],[],[],[100,16,15,17,41,70,91,92,96],[]  …  [16,9],[9],[70],[],[],[100,9,70],[],[],[],[1,3,9,16,41,73,85,96]],Set{Int64}({1,100,2,16,96,91,85,9,75,60,83,58,65,17,87,22,6,44,73,37,92,3,86,67,93,70,15,12,41}),[75=>3,83=>3,44=>3],Set{Int64}({9,100,16,70,1}),-1,0.3,0.01,5)"
      ]
     },
     "execution_count": 8,
     "metadata": {},
     "output_type": "execute_result"
    }
   ],
   "source": [
    "sim2.belief_hist[end]"
   ]
  },
  {
   "cell_type": "code",
   "execution_count": 9,
   "metadata": {
    "collapsed": false
   },
   "outputs": [
    {
     "data": {
      "text/plain": [
       "RevealedGraph(Set{Pair{Int64,Int64}}({edge 9 - 70,edge 100 - 9,edge 37 - 83,edge 100 - 73,edge 9 - 17,edge 44 - 75,edge 1 - 87,edge 1 - 58,edge 100 - 3,edge 16 - 67,edge 70 - 67,edge 9 - 41,edge 1 - 100,edge 16 - 9,edge 1 - 6,edge 16 - 91,edge 1 - 16,edge 100 - 41,edge 1 - 2,edge 22 - 60,edge 1 - 70,edge 12 - 65,edge 100 - 96,edge 9 - 92,edge 9 - 96,edge 70 - 6,edge 70 - 17,edge 100 - 85,edge 1 - 17,edge 9 - 15,edge 16 - 73,edge 9 - 91,edge 70 - 93,edge 70 - 96,edge 16 - 70,edge 16 - 15,edge 100 - 16,edge 16 - 86}),[[2,6,16,17,58,70,87,100],[1],[100],[],[],[1,70],[],[],[100,16,15,17,41,70,91,92,96],[]  …  [16,9],[9],[70],[],[],[100,9,70],[],[],[],[1,3,9,16,41,73,85,96]],Set{Int64}({1,100,2,16,96,91,85,9,75,60,83,58,65,17,87,22,6,44,73,37,92,3,86,67,93,70,15,12,41}),[75=>3,83=>3,44=>3],Set{Int64}({9,100,16,70,1}),-1,0.3,0.01,5)"
      ]
     },
     "execution_count": 9,
     "metadata": {},
     "output_type": "execute_result"
    }
   ],
   "source": [
    "sim.belief_hist[end]"
   ]
  },
  {
   "cell_type": "code",
   "execution_count": null,
   "metadata": {
    "collapsed": true
   },
   "outputs": [],
   "source": []
  }
 ],
 "metadata": {
  "kernelspec": {
   "display_name": "Julia 0.3.11",
   "language": "julia",
   "name": "julia-0.3"
  },
  "language_info": {
   "file_extension": ".jl",
   "mimetype": "application/julia",
   "name": "julia",
   "version": "0.3.11"
  }
 },
 "nbformat": 4,
 "nbformat_minor": 0
}

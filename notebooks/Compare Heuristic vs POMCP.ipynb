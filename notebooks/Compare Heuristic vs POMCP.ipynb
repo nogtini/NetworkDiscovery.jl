{
 "cells": [
  {
   "cell_type": "code",
   "execution_count": 1,
   "metadata": {
    "collapsed": false
   },
   "outputs": [],
   "source": [
    "addprocs(10);"
   ]
  },
  {
   "cell_type": "code",
   "execution_count": 10,
   "metadata": {
    "collapsed": false
   },
   "outputs": [],
   "source": [
    "@everywhere begin\n",
    "    using NetworkDiscovery\n",
    "    using POMDPs\n",
    "    import POMDPs: solve\n",
    "    using POMCP\n",
    "    using POMDPToolbox\n",
    "end"
   ]
  },
  {
   "cell_type": "code",
   "execution_count": 18,
   "metadata": {
    "collapsed": false
   },
   "outputs": [
    {
     "data": {
      "text/plain": [
       "100"
      ]
     },
     "execution_count": 18,
     "metadata": {},
     "output_type": "execute_result"
    }
   ],
   "source": [
    "nodes = 100\n",
    "comms = 5\n",
    "probes = 10\n",
    "p_inter = 0.01\n",
    "p_intra = 0.3\n",
    "N = 100"
   ]
  },
  {
   "cell_type": "code",
   "execution_count": 19,
   "metadata": {
    "collapsed": false
   },
   "outputs": [],
   "source": [
    "@everywhere solve(solver::DiscoveryHeuristic, pomdp) = solver\n",
    "@everywhere function tick_hack(x::Float64,y::Float64)\n",
    "           print(\".\")\n",
    "           return x+y\n",
    "end"
   ]
  },
  {
   "cell_type": "code",
   "execution_count": 20,
   "metadata": {
    "collapsed": false
   },
   "outputs": [
    {
     "data": {
      "text/plain": [
       "est_rew (generic function with 1 method)"
      ]
     },
     "execution_count": 20,
     "metadata": {},
     "output_type": "execute_result"
    }
   ],
   "source": [
    "function est_rew(solver, nodes, comms, probes, p_intra, p_inter, N)\n",
    "    sum = @parallel (tick_hack) for i in 1:N\n",
    "        prob_rng = MersenneTwister(i)\n",
    "        sim_rng = MersenneTwister(i)\n",
    "        nw = generate_network(prob_rng, nodes, comms, p_intra, p_inter)\n",
    "        pomdp = generate_problem(prob_rng, nw, probes, 1, 100.0, 10, 10, p_intra, p_inter)\n",
    "        policy = solve(solver, pomdp)\n",
    "        revealed = initial_belief(pomdp)\n",
    "        sim = RolloutSimulator(rng=sim_rng, initial_state=nw, initial_belief=revealed)\n",
    "        simulate(sim, pomdp, policy)\n",
    "    end\n",
    "    # print(\"\\r\")\n",
    "end"
   ]
  },
  {
   "cell_type": "code",
   "execution_count": 21,
   "metadata": {
    "collapsed": false
   },
   "outputs": [
    {
     "data": {
      "text/plain": [
       "DiscoveryHeuristic(ProbeHighestDegree(false),GuessBasedOnNeighbors(MersenneTwister(DSFMT_state(Int32[1749029653,1072851681,1610647787,1072862326,1841712345,1073426746,-198061126,1073322060,-156153802,1073567984  …  1977574422,1073209915,278919868,1072835605,1290372147,18858467,1815133874,-1716870370,382,0]),Uint32[0x00000001])))"
      ]
     },
     "execution_count": 21,
     "metadata": {},
     "output_type": "execute_result"
    }
   ],
   "source": [
    "guess_rng = MersenneTwister(1)\n",
    "policy = DiscoveryHeuristic(ProbeHighestDegree(false), GuessBasedOnNeighbors(guess_rng))"
   ]
  },
  {
   "cell_type": "code",
   "execution_count": 22,
   "metadata": {
    "collapsed": false
   },
   "outputs": [
    {
     "name": "stdout",
     "output_type": "stream",
     "text": [
      ".........elapsed time: 0.095761203 seconds (579724 bytes allocated)\n"
     ]
    },
    {
     "data": {
      "text/plain": [
       "3800.0"
      ]
     },
     "execution_count": 22,
     "metadata": {},
     "output_type": "execute_result"
    }
   ],
   "source": [
    "@time est_rew(policy, nodes, comms, probes, p_intra, p_inter, N)"
   ]
  },
  {
   "cell_type": "code",
   "execution_count": 25,
   "metadata": {
    "collapsed": false
   },
   "outputs": [
    {
     "data": {
      "text/plain": [
       "POMCPSolver(DiscoveryHeuristic(ProbeHighestDegree(false),GuessBasedOnNeighbors(MersenneTwister(DSFMT_state(Int32[1749029653,1072851681,1610647787,1072862326,1841712345,1073426746,-198061126,1073322060,-156153802,1073567984  …  1977574422,1073209915,278919868,1072835605,1290372147,18858467,1815133874,-1716870370,382,0]),Uint32[0x00000001]))),0.0,100.0,1000,MersenneTwister(DSFMT_state(Int32[1749029653,1072851681,1610647787,1072862326,1841712345,1073426746,-198061126,1073322060,-156153802,1073567984  …  1977574422,1073209915,278919868,1072835605,1290372147,18858467,1815133874,-1716870370,382,-1]),Uint32[0x00000001]),false,FullBeliefConverter(),0)"
      ]
     },
     "execution_count": 25,
     "metadata": {},
     "output_type": "execute_result"
    }
   ],
   "source": [
    "rollout_rng = MersenneTwister(1)\n",
    "pomcp_rng = MersenneTwister(1)\n",
    "rollout_policy = DiscoveryHeuristic(ProbeHighestDegree(false), GuessBasedOnNeighbors(rollout_rng))\n",
    "solver = POMCPSolver(rollout_policy, 0.0, 100.0, 1000, pomcp_rng, false, FullBeliefConverter(), 0)"
   ]
  },
  {
   "cell_type": "code",
   "execution_count": 26,
   "metadata": {
    "collapsed": false
   },
   "outputs": [
    {
     "name": "stdout",
     "output_type": "stream",
     "text": [
      ".........elapsed time: 627.653356452 seconds (649400 bytes allocated)\n"
     ]
    },
    {
     "data": {
      "text/plain": [
       "1400.0"
      ]
     },
     "execution_count": 26,
     "metadata": {},
     "output_type": "execute_result"
    }
   ],
   "source": [
    "@time est_rew(solver, nodes, comms, probes, p_intra, p_inter, N)"
   ]
  },
  {
   "cell_type": "code",
   "execution_count": null,
   "metadata": {
    "collapsed": true
   },
   "outputs": [],
   "source": []
  }
 ],
 "metadata": {
  "kernelspec": {
   "display_name": "Julia 0.3.10",
   "language": "julia",
   "name": "julia-0.3"
  },
  "language_info": {
   "file_extension": ".jl",
   "mimetype": "application/julia",
   "name": "julia",
   "version": "0.3.10"
  }
 },
 "nbformat": 4,
 "nbformat_minor": 0
}

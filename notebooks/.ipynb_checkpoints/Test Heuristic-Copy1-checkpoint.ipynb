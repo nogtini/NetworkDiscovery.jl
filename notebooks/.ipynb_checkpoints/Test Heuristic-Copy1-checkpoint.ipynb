{
 "cells": [
  {
   "cell_type": "code",
   "execution_count": 1,
   "metadata": {
    "collapsed": false
   },
   "outputs": [],
   "source": [
    "using LightGraphs\n",
    "using NetworkDiscovery\n",
    "using POMDPs\n",
    "# using TikzGraphs\n",
    "rng = MersenneTwister(1);"
   ]
  },
  {
   "cell_type": "code",
   "execution_count": 2,
   "metadata": {
    "collapsed": false
   },
   "outputs": [
    {
     "data": {
      "text/plain": [
       "CommunityNetwork({10, 12} undirected graph,3,[1,2,1,1,2,1,3,3,1,3],13457424)"
      ]
     },
     "execution_count": 2,
     "metadata": {},
     "output_type": "execute_result"
    }
   ],
   "source": [
    "nw = generate_network(rng, 10, 3, 0.5, 0.1)"
   ]
  },
  {
   "cell_type": "code",
   "execution_count": 3,
   "metadata": {
    "collapsed": false
   },
   "outputs": [
    {
     "data": {
      "text/plain": [
       "CommunityAffiliationPOMDP(5,1,100.0,CommunityNetwork({10, 12} undirected graph,3,[1,2,1,1,2,1,3,3,1,3],5),Set{Int64}({9,4,3,1}),Set{Pair{Int64,Int64}}({edge 3 - 9,edge 1 - 3,edge 1 - 9,edge 1 - 4}),[4=>1,3=>1])"
      ]
     },
     "execution_count": 3,
     "metadata": {},
     "output_type": "execute_result"
    }
   ],
   "source": [
    "pomdp = generate_problem(rng, nw, 5, 1, 100.0, 4, 4)"
   ]
  },
  {
   "cell_type": "code",
   "execution_count": 4,
   "metadata": {
    "collapsed": false
   },
   "outputs": [
    {
     "data": {
      "text/plain": [
       "DiscoveryHeuristic(ProbeHighestDegree(),GuessBasedOnNeighbors(MersenneTwister(DSFMT_state(Int32[-423222098,1072940746,1823958146,1073056597,94617959,1073021145,2081944769,1072701541,-1344696523,1073205595  …  -1005791883,1073144418,24484970,1073440808,1370926729,1336278534,-1527371338,-19485865,63,0]),Uint32[0x00000001])))"
      ]
     },
     "execution_count": 4,
     "metadata": {},
     "output_type": "execute_result"
    }
   ],
   "source": [
    "policy = DiscoveryHeuristic(ProbeHighestDegree(), GuessBasedOnNeighbors(rng))"
   ]
  },
  {
   "cell_type": "code",
   "execution_count": 5,
   "metadata": {
    "collapsed": false
   },
   "outputs": [
    {
     "data": {
      "text/plain": [
       "RevealedGraph(Set{Pair{Int64,Int64}}({edge 3 - 9,edge 1 - 3,edge 1 - 9,edge 1 - 4}),[[3,9,4],[],[9,1],[1],[],[],[],[],[3,1],[]],Set{Int64}({9,4,3,1}),[4=>1,3=>1],Set{Int64}({}),1,5)"
      ]
     },
     "execution_count": 5,
     "metadata": {},
     "output_type": "execute_result"
    }
   ],
   "source": [
    "revealed = initial_belief(pomdp)"
   ]
  },
  {
   "cell_type": "code",
   "execution_count": 6,
   "metadata": {
    "collapsed": false
   },
   "outputs": [
    {
     "data": {
      "text/plain": [
       "100.0"
      ]
     },
     "execution_count": 6,
     "metadata": {},
     "output_type": "execute_result"
    }
   ],
   "source": [
    "simulate(pomdp, policy, revealed, rng=rng, initial_state=nw)"
   ]
  },
  {
   "cell_type": "code",
   "execution_count": 7,
   "metadata": {
    "collapsed": false
   },
   "outputs": [
    {
     "data": {
      "text/plain": [
       "CommunityNetwork({10, 12} undirected graph,3,[1,2,1,1,2,1,3,3,1,3],5)"
      ]
     },
     "execution_count": 7,
     "metadata": {},
     "output_type": "execute_result"
    }
   ],
   "source": []
  },
  {
   "cell_type": "code",
   "execution_count": null,
   "metadata": {
    "collapsed": true
   },
   "outputs": [],
   "source": []
  }
 ],
 "metadata": {
  "kernelspec": {
   "display_name": "Julia 0.3.11",
   "language": "julia",
   "name": "julia-0.3"
  },
  "language_info": {
   "file_extension": ".jl",
   "mimetype": "application/julia",
   "name": "julia",
   "version": "0.3.11"
  }
 },
 "nbformat": 4,
 "nbformat_minor": 0
}
